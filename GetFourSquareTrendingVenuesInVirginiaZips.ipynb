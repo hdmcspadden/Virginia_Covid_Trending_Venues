{
 "metadata": {
  "language_info": {
   "codemirror_mode": {
    "name": "ipython",
    "version": 3
   },
   "file_extension": ".py",
   "mimetype": "text/x-python",
   "name": "python",
   "nbconvert_exporter": "python",
   "pygments_lexer": "ipython3",
   "version": "3.8.3-final"
  },
  "orig_nbformat": 2,
  "kernelspec": {
   "name": "python3",
   "display_name": "Python 3",
   "language": "python"
  }
 },
 "nbformat": 4,
 "nbformat_minor": 2,
 "cells": [
  {
   "source": [
    "# Retrieve Trending Venues in Virginia Zip Codes and Save to CSV\n",
    "Need to do this distributed throughout the day on three different days to get a picture of what venues are trending over time.\n",
    "\n",
    "### This code was run on the following dates and times to create a data set of trending venues by zip code for use in further analysis:\n",
    "\n",
    "* MM/DD/YY - HH:MM\n",
    "* MM/DD/YY - HH:MM\n",
    "* MM/DD/YY - HH:MM\n",
    "* MM/DD/YY - HH:MM\n",
    "* MM/DD/YY - HH:MM\n",
    "* MM/DD/YY - HH:MM\n",
    "* MM/DD/YY - HH:MM\n",
    "* MM/DD/YY - HH:MM\n",
    "* MM/DD/YY - HH:MM"
   ],
   "cell_type": "markdown",
   "metadata": {}
  },
  {
   "cell_type": "code",
   "execution_count": 1,
   "metadata": {},
   "outputs": [
    {
     "output_type": "stream",
     "name": "stdout",
     "text": [
      "Requirement already satisfied: geopy in c:\\programdata\\anaconda3\\lib\\site-packages (2.1.0)\n",
      "Requirement already satisfied: geographiclib<2,>=1.49 in c:\\programdata\\anaconda3\\lib\\site-packages (from geopy) (1.50)\n",
      "Collecting folium==0.5.0\n",
      "  Downloading folium-0.5.0.tar.gz (79 kB)\n",
      "Requirement already satisfied: branca in c:\\programdata\\anaconda3\\lib\\site-packages (from folium==0.5.0) (0.4.1)\n",
      "Requirement already satisfied: jinja2 in c:\\programdata\\anaconda3\\lib\\site-packages (from folium==0.5.0) (2.11.2)\n",
      "Requirement already satisfied: requests in c:\\programdata\\anaconda3\\lib\\site-packages (from folium==0.5.0) (2.24.0)\n",
      "Requirement already satisfied: six in c:\\programdata\\anaconda3\\lib\\site-packages (from folium==0.5.0) (1.15.0)\n",
      "Requirement already satisfied: MarkupSafe>=0.23 in c:\\programdata\\anaconda3\\lib\\site-packages (from jinja2->folium==0.5.0) (1.1.1)\n",
      "Requirement already satisfied: certifi>=2017.4.17 in c:\\programdata\\anaconda3\\lib\\site-packages (from requests->folium==0.5.0) (2020.6.20)\n",
      "Requirement already satisfied: idna<3,>=2.5 in c:\\programdata\\anaconda3\\lib\\site-packages (from requests->folium==0.5.0) (2.10)\n",
      "Requirement already satisfied: urllib3!=1.25.0,!=1.25.1,<1.26,>=1.21.1 in c:\\programdata\\anaconda3\\lib\\site-packages (from requests->folium==0.5.0) (1.25.10)\n",
      "Requirement already satisfied: chardet<4,>=3.0.2 in c:\\programdata\\anaconda3\\lib\\site-packages (from requests->folium==0.5.0) (3.0.4)\n",
      "Building wheels for collected packages: folium\n",
      "  Building wheel for folium (setup.py): started\n",
      "  Building wheel for folium (setup.py): finished with status 'done'\n",
      "  Created wheel for folium: filename=folium-0.5.0-py3-none-any.whl size=76255 sha256=f0ff3a56d7a7349318ad882cdeb073f454115f14ff0615dd4978860194fcd647\n",
      "  Stored in directory: c:\\users\\diana mcspadden\\appdata\\local\\pip\\cache\\wheels\\ef\\4c\\4a\\17fd3d7fb7b6243d5a7a8d165870cd5c6ad2ec4c0582f039e4\n",
      "Successfully built folium\n",
      "Installing collected packages: folium\n",
      "  Attempting uninstall: folium\n",
      "    Found existing installation: folium 0.11.0\n",
      "    Uninstalling folium-0.11.0:\n",
      "      Successfully uninstalled folium-0.11.0\n",
      "Successfully installed folium-0.5.0\n",
      "Folium installed\n",
      "Libraries imported.\n"
     ]
    }
   ],
   "source": [
    "# import needed libraries\n",
    "import requests # library to handle requests\n",
    "import pandas as pd # library for data analsysis\n",
    "import numpy as np # library to handle data in a vectorized manner\n",
    "\n",
    "!pip install geopy\n",
    "from geopy.geocoders import Nominatim # module to convert an address into latitude and longitude values\n",
    "\n",
    "# libraries for displaying images\n",
    "from IPython.display import Image \n",
    "from IPython.core.display import HTML \n",
    "    \n",
    "# tranforming json file into a pandas dataframe library\n",
    "from pandas.io.json import json_normalize\n",
    "\n",
    "\n",
    "!pip install folium==0.5.0\n",
    "import folium # plotting library\n",
    "\n",
    "print('Folium installed')\n",
    "print('Libraries imported.')"
   ]
  },
  {
   "source": [
    "Below will be my FourSquare credentials. NEED TO REMOVE BEFORE SHARING."
   ],
   "cell_type": "markdown",
   "metadata": {}
  },
  {
   "cell_type": "code",
   "execution_count": null,
   "metadata": {},
   "outputs": [],
   "source": [
    "CLIENT_ID = 'FHLIENCAGLQPDQRTXZFUBNVHPMW4TRXLFQN0OLHZ3SJXQGQF' # your Foursquare ID\n",
    "CLIENT_SECRET = 'VT2WIU3QJHHQUFY04FC4BKHZJIMUA1TNZE4TAKYYUX4QGAEJ' # your Foursquare Secret\n",
    "ACCESS_TOKEN = 'FTXV3LVR025425XYTLL0MHYQVJ4YOSZMCLH11I00PQGMGW42' # your FourSquare Access Token\n",
    "VERSION = '20180604'\n",
    "LIMIT = 30"
   ]
  },
  {
   "source": [
    "Use the VirginiaPopByZipCode CSV to get all the Virginia Zip codes that will be used to retrieve trending venues."
   ],
   "cell_type": "markdown",
   "metadata": {}
  },
  {
   "cell_type": "code",
   "execution_count": null,
   "metadata": {},
   "outputs": [],
   "source": []
  },
  {
   "cell_type": "code",
   "execution_count": null,
   "metadata": {},
   "outputs": [],
   "source": []
  }
 ]
}