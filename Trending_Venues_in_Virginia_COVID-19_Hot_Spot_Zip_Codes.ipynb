{
 "metadata": {
  "language_info": {
   "codemirror_mode": {
    "name": "ipython",
    "version": 3
   },
   "file_extension": ".py",
   "mimetype": "text/x-python",
   "name": "python",
   "nbconvert_exporter": "python",
   "pygments_lexer": "ipython3",
   "version": 3
  },
  "orig_nbformat": 2
 },
 "nbformat": 4,
 "nbformat_minor": 2,
 "cells": [
  {
   "cell_type": "code",
   "execution_count": null,
   "metadata": {},
   "outputs": [],
   "source": []
  },
  {
   "source": [
    "# Trending FourSquare Venues in COVID-19 Hot Spot Zip Codes in Virginia, USA\n",
    "\n",
    "## Introduction\n",
    "According to the Virginia Department of Health COVID-19 is spread through respiratory droplets, and is more likely spread when people are in close contact. \"Community spread\" is the public health term used to describe someone being infected by a disease when they do not know when they were in contact with the sick person. Community spread may be occuring Virginia communities at indoor public venues such as restaurants, bars, coffee shops, and grocery stores. \n",
    "\n",
    "Determining what categories of venues are correlated with high per capita COVID-19 infection rates can be helpful to determine community risk factors. This project uses FourSquare trending venues by Virginia zip codes to determine if such a correlation exists. Machine Learning, specific the Support Vector Machine method, is used to determine if high COVID-19 per capita infections can be predicted based on types of trending venues by zip code.\n",
    "\n",
    "## The Data\n",
    "\n",
    "\n",
    "\n",
    "## Methodology \n",
    "Main component of the report where you discuss and describe any exploratory data analysis that you did, any inferential statistical testing that you performed, if any, and what machine learnings were used and why.\n",
    "\n",
    "I will explore FourSquare trending venues by Virginia zip code. I will merge the trending venues by Virginia zip code with per capita COVID-19 case number increases in the last two weeks in Virginia. I will categorize each zip code as a high rate of COVID per capita, or a low rate of COVID per capita. I will retrieve the top 10 categories of venues for each zip code. I then trained a Support Vector Machine to determine whether a zip code can be predicted to be high or low per capita COVID-19 infections by the categories of trending venues.\n",
    "\n",
    "## Results \n",
    "Discuss the results.\n",
    "\n",
    "## Discussion \n",
    "Discuss any observations you noted and any recommendations you can make based on the results.\n",
    "\n",
    "## Conclusion \n",
    "Conclude the report.\n",
    "\n",
    "## References\n",
    " Virgina Departments of Health: https://www.vdh.virginia.gov/coronavirus/frequently-asked-questions/general-questions/"
   ],
   "cell_type": "markdown",
   "metadata": {}
  }
 ]
}