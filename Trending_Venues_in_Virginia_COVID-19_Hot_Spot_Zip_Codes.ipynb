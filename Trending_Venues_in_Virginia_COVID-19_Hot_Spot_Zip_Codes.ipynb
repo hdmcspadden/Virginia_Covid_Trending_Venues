{
 "metadata": {
  "language_info": {
   "codemirror_mode": {
    "name": "ipython",
    "version": 3
   },
   "file_extension": ".py",
   "mimetype": "text/x-python",
   "name": "python",
   "nbconvert_exporter": "python",
   "pygments_lexer": "ipython3",
   "version": "3.8.3-final"
  },
  "orig_nbformat": 2,
  "kernelspec": {
   "name": "python3",
   "display_name": "Python 3",
   "language": "python"
  }
 },
 "nbformat": 4,
 "nbformat_minor": 2,
 "cells": [
  {
   "source": [
    "# Trending FourSquare Venues in COVID-19 Hot Spot Zip Codes in Virginia, USA\n",
    "\n",
    "## Introduction\n",
    "According to the Virginia Department of Health COVID-19 is spread through respiratory droplets, and is more likely spread when people are in close contact. \"Community spread\" is the public health term used to describe someone being infected by a disease when they do not know when they were in contact with the sick person. Community spread may be occuring Virginia communities at indoor public venues such as restaurants, bars, coffee shops, and grocery stores. \n",
    "\n",
    "Determining what categories of venues are correlated with high per capita COVID-19 infection rates can be helpful to determine community risk factors. This project uses FourSquare venues by Virginia zip codes to determine if such a correlation exists. Machine Learning, specific the Support Vector Machine method, is used to determine if high COVID-19 per capita infections can be predicted based on types of trending venues by zip code.\n"
   ],
   "cell_type": "markdown",
   "metadata": {}
  },
  {
   "source": [
    "## The Data\n",
    "\n",
    "Four data sources are utilized in this project:\n",
    "\n",
    "1. **World Population Review** provides a csv of Virginia Zip Codes and estimates of the 2020 population for each zip code.\n",
    "  * These data are required to acquire a dataset of Virginia zip codes, and to determine the per capita COVID-19 infections per zip code.\n",
    "  * https://worldpopulationreview.com/zips/virginia\n",
    "2. **Open Data Standard API** will be used to aquire a latitude and longitude for each zip code.\n",
    "  * **It should be noted** that the FourSquare API can use zip codes with the ***&near*** querystring parameter, but in order for more practice I will retrieve latitudes and longitudes.\n",
    "  * https://public.opendatasoft.com/api/records/1.0/search/?dataset=us-zip-code-latitude-and-longitude&q=VA&rows=1275&facet=state&facet=timezone&facet=dst&refine.state=VA\n",
    "3. **Virginia's Open Data Portal of COVID-19 Counts by Zip Code** provides cummulative COVID-19 counts per Virginia zip code.\n",
    "  * These data are required to calculate the per capita COVID-19 infections per zip code.\n",
    "  * Data are included for 5/15/2020 - 12-27-2020: I will use **December 1, 2020 - December 27, 2020** in order to focus on the most current infections, and also to best match venue data which is from December 28, 2020.\n",
    "  * I subtract total cases for each zip code on November 30th from the total cases on December 27th.\n",
    "  * I divide the total December cases by zip code population to determine the per capita COVID case count.\n",
    "  * I then determine the mean per capita case count and assign a categorical label: \"low\" or \"high\" to the zip code based on whether the zip code's per capita COVID-19 December cases are above or below the mean.\n",
    "  * https://data.virginia.gov/Government/VDH-COVID-19-PublicUseDataset-ZIPCode/8bkr-zfqv\n",
    "\n",
    "4. **FourSquare Venues Endpoint** will provide venues within 2000m (2 km) of the zip code.\n",
    "  * The FourSquare API will return categories for each venue. **The top 10 categories for each zip code will be calculated, and the resulting data will be used in the Support Vector Machine to determine what accuracy we can predict high or low per capita COVID-19 infections by venue categories.**\n",
    "  * **It should be noted** that many venues will be beyond the 2000m radius of the FourSquare search. This project is for example purposes only.\n",
    "  * https://developer.foursquare.com/docs/places-api/endpoints/\n",
    "  "
   ],
   "cell_type": "markdown",
   "metadata": {}
  },
  {
   "source": [
    "### Collect the Data\n",
    "\n",
    "Import needed libraries"
   ],
   "cell_type": "markdown",
   "metadata": {}
  },
  {
   "cell_type": "code",
   "execution_count": 4,
   "metadata": {},
   "outputs": [
    {
     "output_type": "stream",
     "name": "stdout",
     "text": [
      "Folium installed\nLibraries imported.\n"
     ]
    }
   ],
   "source": [
    "# import needed libraries\n",
    "import requests # library to handle requests\n",
    "import pandas as pd # library for data analsysis\n",
    "import numpy as np # library to handle data in a vectorized manner\n",
    "\n",
    "#!pip install geopy\n",
    "from geopy.geocoders import Nominatim # module to convert an address into latitude and longitude values\n",
    "\n",
    "# libraries for displaying images\n",
    "from IPython.display import Image \n",
    "from IPython.core.display import HTML \n",
    "    \n",
    "# tranforming json file into a pandas dataframe library\n",
    "from pandas.io.json import json_normalize\n",
    "\n",
    "\n",
    "#!pip install folium==0.5.0\n",
    "import folium # plotting library\n",
    "\n",
    "print('Folium installed')\n",
    "print('Libraries imported.')"
   ]
  },
  {
   "source": [
    "#### Collect Population For Each Virginia Zip Code\n",
    "\n",
    "Load the csv of population by Virginia zip code from World Population Review."
   ],
   "cell_type": "markdown",
   "metadata": {}
  },
  {
   "cell_type": "code",
   "execution_count": 5,
   "metadata": {},
   "outputs": [
    {
     "output_type": "stream",
     "name": "stdout",
     "text": [
      "(892, 4)\n"
     ]
    },
    {
     "output_type": "execute_result",
     "data": {
      "text/plain": [
       "     zip            city               county    pop\n",
       "0  22193      Woodbridge       Prince William  82573\n",
       "1  23464  Virginia Beach  Virginia Beach City  76495\n",
       "2  22191      Woodbridge       Prince William  70641\n",
       "3  23322      Chesapeake      Chesapeake City  65603\n",
       "4  20147         Ashburn              Loudoun  64197"
      ],
      "text/html": "<div>\n<style scoped>\n    .dataframe tbody tr th:only-of-type {\n        vertical-align: middle;\n    }\n\n    .dataframe tbody tr th {\n        vertical-align: top;\n    }\n\n    .dataframe thead th {\n        text-align: right;\n    }\n</style>\n<table border=\"1\" class=\"dataframe\">\n  <thead>\n    <tr style=\"text-align: right;\">\n      <th></th>\n      <th>zip</th>\n      <th>city</th>\n      <th>county</th>\n      <th>pop</th>\n    </tr>\n  </thead>\n  <tbody>\n    <tr>\n      <th>0</th>\n      <td>22193</td>\n      <td>Woodbridge</td>\n      <td>Prince William</td>\n      <td>82573</td>\n    </tr>\n    <tr>\n      <th>1</th>\n      <td>23464</td>\n      <td>Virginia Beach</td>\n      <td>Virginia Beach City</td>\n      <td>76495</td>\n    </tr>\n    <tr>\n      <th>2</th>\n      <td>22191</td>\n      <td>Woodbridge</td>\n      <td>Prince William</td>\n      <td>70641</td>\n    </tr>\n    <tr>\n      <th>3</th>\n      <td>23322</td>\n      <td>Chesapeake</td>\n      <td>Chesapeake City</td>\n      <td>65603</td>\n    </tr>\n    <tr>\n      <th>4</th>\n      <td>20147</td>\n      <td>Ashburn</td>\n      <td>Loudoun</td>\n      <td>64197</td>\n    </tr>\n  </tbody>\n</table>\n</div>"
     },
     "metadata": {},
     "execution_count": 5
    }
   ],
   "source": [
    "df_ZipPop = pd.read_csv(r'Data/VirginiaPopByZipCode.csv')\n",
    "print(df_ZipPop.shape)\n",
    "df_ZipPop.head()"
   ]
  },
  {
   "source": [
    "Need to change data type of the zip column for later merging."
   ],
   "cell_type": "markdown",
   "metadata": {}
  },
  {
   "cell_type": "code",
   "execution_count": 6,
   "metadata": {},
   "outputs": [
    {
     "output_type": "stream",
     "name": "stdout",
     "text": [
      "zip       object\ncity      object\ncounty    object\npop        int64\ndtype: object\n"
     ]
    }
   ],
   "source": [
    "# need to change data type for later merging\n",
    "df_ZipPop['zip'] = df_ZipPop['zip'].astype(str)\n",
    "print(df_ZipPop.dtypes)"
   ]
  },
  {
   "source": [
    "#### Collect Latitude and Longitude for each zip code\n",
    "\n",
    "From Open Data Standard retrieve all Virginia zip codes and corresponding latitudes and longitudes. Save the results in DataFrame and merge the DataFrame with the population DataFrame."
   ],
   "cell_type": "markdown",
   "metadata": {}
  },
  {
   "cell_type": "code",
   "execution_count": 7,
   "metadata": {},
   "outputs": [],
   "source": [
    "#https://public.opendatasoft.com/api/records/1.0/search/?dataset=us-zip-code-latitude-and-longitude&q=VA&rows=1275&facet=state&facet=timezone&facet=dst&refine.state=VA\n",
    "\n",
    "zip_url = 'https://public.opendatasoft.com/api/records/1.0/search/?dataset=us-zip-code-latitude-and-longitude&q=VA&rows=1275&facet=state&facet=timezone&facet=dst&refine.state=VA'\n",
    "            \n",
    "# make the GET request\n",
    "zip_results = requests.get(zip_url).json()['records']\n",
    "#print(zip_results)\n",
    "zip_latlon_list=[]\n",
    "zip_latlon_list.append([(z['fields']['zip'], z['fields']['latitude'], z['fields']['longitude']) for z in zip_results])\n",
    "\n",
    "df_ZipLatLon = pd.DataFrame([item for zip_latlon_list in zip_latlon_list for item in zip_latlon_list])\n",
    "df_ZipLatLon.columns = ['zip', 'Latitude', 'Longitude']"
   ]
  },
  {
   "cell_type": "code",
   "execution_count": 8,
   "metadata": {},
   "outputs": [
    {
     "output_type": "stream",
     "name": "stdout",
     "text": [
      "(1275, 3)\nzip           object\nLatitude     float64\nLongitude    float64\ndtype: object\n"
     ]
    },
    {
     "output_type": "execute_result",
     "data": {
      "text/plain": [
       "     zip   Latitude  Longitude\n",
       "0  23887  36.563755  -77.82652\n",
       "1  24656  37.198005  -82.12193\n",
       "2  24149  37.011934  -80.41897\n",
       "3  23125  37.342721  -76.27989\n",
       "4  22652  38.823987  -78.45310"
      ],
      "text/html": "<div>\n<style scoped>\n    .dataframe tbody tr th:only-of-type {\n        vertical-align: middle;\n    }\n\n    .dataframe tbody tr th {\n        vertical-align: top;\n    }\n\n    .dataframe thead th {\n        text-align: right;\n    }\n</style>\n<table border=\"1\" class=\"dataframe\">\n  <thead>\n    <tr style=\"text-align: right;\">\n      <th></th>\n      <th>zip</th>\n      <th>Latitude</th>\n      <th>Longitude</th>\n    </tr>\n  </thead>\n  <tbody>\n    <tr>\n      <th>0</th>\n      <td>23887</td>\n      <td>36.563755</td>\n      <td>-77.82652</td>\n    </tr>\n    <tr>\n      <th>1</th>\n      <td>24656</td>\n      <td>37.198005</td>\n      <td>-82.12193</td>\n    </tr>\n    <tr>\n      <th>2</th>\n      <td>24149</td>\n      <td>37.011934</td>\n      <td>-80.41897</td>\n    </tr>\n    <tr>\n      <th>3</th>\n      <td>23125</td>\n      <td>37.342721</td>\n      <td>-76.27989</td>\n    </tr>\n    <tr>\n      <th>4</th>\n      <td>22652</td>\n      <td>38.823987</td>\n      <td>-78.45310</td>\n    </tr>\n  </tbody>\n</table>\n</div>"
     },
     "metadata": {},
     "execution_count": 8
    }
   ],
   "source": [
    "print(df_ZipLatLon.shape)\n",
    "df_ZipLatLon['zip'] = df_ZipLatLon['zip'].astype(str)\n",
    "print(df_ZipLatLon.dtypes)\n",
    "df_ZipLatLon.head()"
   ]
  },
  {
   "source": [
    "* Merge the DataFrames\n",
    "* Drop NA values from the merged DataFrame"
   ],
   "cell_type": "markdown",
   "metadata": {}
  },
  {
   "cell_type": "code",
   "execution_count": 9,
   "metadata": {},
   "outputs": [],
   "source": [
    "df_ZipUnion = df_ZipLatLon.merge(df_ZipPop, on='zip', how='left')"
   ]
  },
  {
   "cell_type": "code",
   "execution_count": 10,
   "metadata": {},
   "outputs": [
    {
     "output_type": "stream",
     "name": "stdout",
     "text": [
      "(891, 6)\n"
     ]
    },
    {
     "output_type": "execute_result",
     "data": {
      "text/plain": [
       "     zip   Latitude  Longitude         city      county     pop\n",
       "0  23887  36.563755  -77.82652   Valentines   Brunswick   387.0\n",
       "1  24656  37.198005  -82.12193      Vansant    Buchanan  2812.0\n",
       "2  24149  37.011934  -80.41897        Riner  Montgomery  3530.0\n",
       "3  23125  37.342721  -76.27989    New Point     Mathews   255.0\n",
       "4  22652  38.823987  -78.45310  Fort Valley  Shenandoah  1339.0"
      ],
      "text/html": "<div>\n<style scoped>\n    .dataframe tbody tr th:only-of-type {\n        vertical-align: middle;\n    }\n\n    .dataframe tbody tr th {\n        vertical-align: top;\n    }\n\n    .dataframe thead th {\n        text-align: right;\n    }\n</style>\n<table border=\"1\" class=\"dataframe\">\n  <thead>\n    <tr style=\"text-align: right;\">\n      <th></th>\n      <th>zip</th>\n      <th>Latitude</th>\n      <th>Longitude</th>\n      <th>city</th>\n      <th>county</th>\n      <th>pop</th>\n    </tr>\n  </thead>\n  <tbody>\n    <tr>\n      <th>0</th>\n      <td>23887</td>\n      <td>36.563755</td>\n      <td>-77.82652</td>\n      <td>Valentines</td>\n      <td>Brunswick</td>\n      <td>387.0</td>\n    </tr>\n    <tr>\n      <th>1</th>\n      <td>24656</td>\n      <td>37.198005</td>\n      <td>-82.12193</td>\n      <td>Vansant</td>\n      <td>Buchanan</td>\n      <td>2812.0</td>\n    </tr>\n    <tr>\n      <th>2</th>\n      <td>24149</td>\n      <td>37.011934</td>\n      <td>-80.41897</td>\n      <td>Riner</td>\n      <td>Montgomery</td>\n      <td>3530.0</td>\n    </tr>\n    <tr>\n      <th>3</th>\n      <td>23125</td>\n      <td>37.342721</td>\n      <td>-76.27989</td>\n      <td>New Point</td>\n      <td>Mathews</td>\n      <td>255.0</td>\n    </tr>\n    <tr>\n      <th>4</th>\n      <td>22652</td>\n      <td>38.823987</td>\n      <td>-78.45310</td>\n      <td>Fort Valley</td>\n      <td>Shenandoah</td>\n      <td>1339.0</td>\n    </tr>\n  </tbody>\n</table>\n</div>"
     },
     "metadata": {},
     "execution_count": 10
    }
   ],
   "source": [
    "df_ZipUnion.dropna(inplace=True)\n",
    "print(df_ZipUnion.shape)\n",
    "df_ZipUnion.head()"
   ]
  },
  {
   "source": [
    "Create a new **areaName** column in the DataFrame with CITY, COUNTY (ZIPCODE) for display purposes."
   ],
   "cell_type": "markdown",
   "metadata": {}
  },
  {
   "cell_type": "code",
   "execution_count": 11,
   "metadata": {},
   "outputs": [
    {
     "output_type": "execute_result",
     "data": {
      "text/plain": [
       "     zip   Latitude  Longitude         city      county     pop  \\\n",
       "0  23887  36.563755  -77.82652   Valentines   Brunswick   387.0   \n",
       "1  24656  37.198005  -82.12193      Vansant    Buchanan  2812.0   \n",
       "2  24149  37.011934  -80.41897        Riner  Montgomery  3530.0   \n",
       "3  23125  37.342721  -76.27989    New Point     Mathews   255.0   \n",
       "4  22652  38.823987  -78.45310  Fort Valley  Shenandoah  1339.0   \n",
       "\n",
       "                          areaName  \n",
       "0    Valentines, Brunswick (23887)  \n",
       "1        Vansant, Buchanan (24656)  \n",
       "2        Riner, Montgomery (24149)  \n",
       "3       New Point, Mathews (23125)  \n",
       "4  Fort Valley, Shenandoah (22652)  "
      ],
      "text/html": "<div>\n<style scoped>\n    .dataframe tbody tr th:only-of-type {\n        vertical-align: middle;\n    }\n\n    .dataframe tbody tr th {\n        vertical-align: top;\n    }\n\n    .dataframe thead th {\n        text-align: right;\n    }\n</style>\n<table border=\"1\" class=\"dataframe\">\n  <thead>\n    <tr style=\"text-align: right;\">\n      <th></th>\n      <th>zip</th>\n      <th>Latitude</th>\n      <th>Longitude</th>\n      <th>city</th>\n      <th>county</th>\n      <th>pop</th>\n      <th>areaName</th>\n    </tr>\n  </thead>\n  <tbody>\n    <tr>\n      <th>0</th>\n      <td>23887</td>\n      <td>36.563755</td>\n      <td>-77.82652</td>\n      <td>Valentines</td>\n      <td>Brunswick</td>\n      <td>387.0</td>\n      <td>Valentines, Brunswick (23887)</td>\n    </tr>\n    <tr>\n      <th>1</th>\n      <td>24656</td>\n      <td>37.198005</td>\n      <td>-82.12193</td>\n      <td>Vansant</td>\n      <td>Buchanan</td>\n      <td>2812.0</td>\n      <td>Vansant, Buchanan (24656)</td>\n    </tr>\n    <tr>\n      <th>2</th>\n      <td>24149</td>\n      <td>37.011934</td>\n      <td>-80.41897</td>\n      <td>Riner</td>\n      <td>Montgomery</td>\n      <td>3530.0</td>\n      <td>Riner, Montgomery (24149)</td>\n    </tr>\n    <tr>\n      <th>3</th>\n      <td>23125</td>\n      <td>37.342721</td>\n      <td>-76.27989</td>\n      <td>New Point</td>\n      <td>Mathews</td>\n      <td>255.0</td>\n      <td>New Point, Mathews (23125)</td>\n    </tr>\n    <tr>\n      <th>4</th>\n      <td>22652</td>\n      <td>38.823987</td>\n      <td>-78.45310</td>\n      <td>Fort Valley</td>\n      <td>Shenandoah</td>\n      <td>1339.0</td>\n      <td>Fort Valley, Shenandoah (22652)</td>\n    </tr>\n  </tbody>\n</table>\n</div>"
     },
     "metadata": {},
     "execution_count": 11
    }
   ],
   "source": [
    "df_ZipUnion['areaName'] = df_ZipUnion['city'] + ', ' + df_ZipUnion['county'] + \" (\" + df_ZipUnion['zip'] + ')'\n",
    "df_ZipUnion.head()"
   ]
  },
  {
   "source": [
    "#### Collect Virginia COVID-19 Infection Counts By Zip Code\n",
    "\n",
    "Load the csv of Virginia's Open Data Portal of COVID-19 Counts by Zip Code "
   ],
   "cell_type": "markdown",
   "metadata": {}
  },
  {
   "cell_type": "code",
   "execution_count": 53,
   "metadata": {},
   "outputs": [
    {
     "output_type": "stream",
     "name": "stdout",
     "text": [
      "(199668, 5)\n"
     ]
    },
    {
     "output_type": "execute_result",
     "data": {
      "text/plain": [
       "  Report Date ZIP Code Number of Cases  Number of Testing Encounters  \\\n",
       "0  10/29/2020    20105             327                           NaN   \n",
       "1  10/29/2020    20106              78                           NaN   \n",
       "2  10/29/2020    20109            1868                           NaN   \n",
       "3  10/29/2020    20110            2327                           NaN   \n",
       "4  10/29/2020    20111            1566                           NaN   \n",
       "\n",
       "  Number of PCR Testing Encounters  \n",
       "0                             6316  \n",
       "1                              792  \n",
       "2                            12598  \n",
       "3                            15054  \n",
       "4                            10305  "
      ],
      "text/html": "<div>\n<style scoped>\n    .dataframe tbody tr th:only-of-type {\n        vertical-align: middle;\n    }\n\n    .dataframe tbody tr th {\n        vertical-align: top;\n    }\n\n    .dataframe thead th {\n        text-align: right;\n    }\n</style>\n<table border=\"1\" class=\"dataframe\">\n  <thead>\n    <tr style=\"text-align: right;\">\n      <th></th>\n      <th>Report Date</th>\n      <th>ZIP Code</th>\n      <th>Number of Cases</th>\n      <th>Number of Testing Encounters</th>\n      <th>Number of PCR Testing Encounters</th>\n    </tr>\n  </thead>\n  <tbody>\n    <tr>\n      <th>0</th>\n      <td>10/29/2020</td>\n      <td>20105</td>\n      <td>327</td>\n      <td>NaN</td>\n      <td>6316</td>\n    </tr>\n    <tr>\n      <th>1</th>\n      <td>10/29/2020</td>\n      <td>20106</td>\n      <td>78</td>\n      <td>NaN</td>\n      <td>792</td>\n    </tr>\n    <tr>\n      <th>2</th>\n      <td>10/29/2020</td>\n      <td>20109</td>\n      <td>1868</td>\n      <td>NaN</td>\n      <td>12598</td>\n    </tr>\n    <tr>\n      <th>3</th>\n      <td>10/29/2020</td>\n      <td>20110</td>\n      <td>2327</td>\n      <td>NaN</td>\n      <td>15054</td>\n    </tr>\n    <tr>\n      <th>4</th>\n      <td>10/29/2020</td>\n      <td>20111</td>\n      <td>1566</td>\n      <td>NaN</td>\n      <td>10305</td>\n    </tr>\n  </tbody>\n</table>\n</div>"
     },
     "metadata": {},
     "execution_count": 53
    }
   ],
   "source": [
    "df_ZipCOVID = pd.read_csv(r'Data/VDH-COVID-19-PublicUseDataset-ZIPCode.csv')\n",
    "print(df_ZipCOVID.shape)\n",
    "df_ZipCOVID.head()"
   ]
  },
  {
   "cell_type": "code",
   "execution_count": 54,
   "metadata": {},
   "outputs": [
    {
     "output_type": "execute_result",
     "data": {
      "text/plain": [
       "Report Date                          object\n",
       "ZIP Code                             object\n",
       "Number of Cases                      object\n",
       "Number of Testing Encounters        float64\n",
       "Number of PCR Testing Encounters     object\n",
       "dtype: object"
      ]
     },
     "metadata": {},
     "execution_count": 54
    }
   ],
   "source": [
    "df_ZipCOVID.dtypes"
   ]
  },
  {
   "source": [
    "Set Report Date to datetime format."
   ],
   "cell_type": "markdown",
   "metadata": {}
  },
  {
   "cell_type": "code",
   "execution_count": 55,
   "metadata": {},
   "outputs": [
    {
     "output_type": "execute_result",
     "data": {
      "text/plain": [
       "Report Date                         datetime64[ns]\n",
       "ZIP Code                                    object\n",
       "Number of Cases                             object\n",
       "Number of Testing Encounters               float64\n",
       "Number of PCR Testing Encounters            object\n",
       "dtype: object"
      ]
     },
     "metadata": {},
     "execution_count": 55
    }
   ],
   "source": [
    "df_ZipCOVID['Report Date'] =  pd.to_datetime(df_ZipCOVID['Report Date'], infer_datetime_format=True)\n",
    "df_ZipCOVID.dtypes"
   ]
  },
  {
   "source": [
    "* I only need the Report Date, Zip Code, and Number of Cases columns.\n",
    "* Drop NaN records\n",
    "* rename columns to ReportDate, zip, and NumCases\n",
    "* I only need the values for dates greater than November 30th."
   ],
   "cell_type": "markdown",
   "metadata": {}
  },
  {
   "cell_type": "code",
   "execution_count": 56,
   "metadata": {},
   "outputs": [
    {
     "output_type": "stream",
     "name": "stdout",
     "text": [
      "(169113, 3)\n"
     ]
    }
   ],
   "source": [
    "df_ZipCOVID.drop(['Number of Testing Encounters','Number of PCR Testing Encounters'], axis=1, inplace=True)\n",
    "df_ZipCOVID.dropna(inplace=True)\n",
    "df_ZipCOVID = df_ZipCOVID[df_ZipCOVID['Number of Cases'] != 'Suppressed']\n",
    "df_ZipCOVID = df_ZipCOVID[df_ZipCOVID['Number of Cases'] != 'Suppressed*']\n",
    "print(df_ZipCOVID.shape)\n"
   ]
  },
  {
   "cell_type": "code",
   "execution_count": 57,
   "metadata": {},
   "outputs": [
    {
     "output_type": "execute_result",
     "data": {
      "text/plain": [
       "Report Date        datetime64[ns]\n",
       "ZIP Code                   object\n",
       "Number of Cases             int64\n",
       "dtype: object"
      ]
     },
     "metadata": {},
     "execution_count": 57
    }
   ],
   "source": [
    "# set Num of Cases to int\n",
    "df_ZipCOVID['Number of Cases'] =  pd.to_numeric(df_ZipCOVID['Number of Cases'])\n",
    "df_ZipCOVID.dtypes"
   ]
  },
  {
   "cell_type": "code",
   "execution_count": 58,
   "metadata": {},
   "outputs": [
    {
     "output_type": "stream",
     "name": "stdout",
     "text": [
      "(169113, 3)\n"
     ]
    },
    {
     "output_type": "execute_result",
     "data": {
      "text/plain": [
       "  ReportDate    zip  NumCases\n",
       "0 2020-10-29  20105       327\n",
       "1 2020-10-29  20106        78\n",
       "2 2020-10-29  20109      1868\n",
       "3 2020-10-29  20110      2327\n",
       "4 2020-10-29  20111      1566"
      ],
      "text/html": "<div>\n<style scoped>\n    .dataframe tbody tr th:only-of-type {\n        vertical-align: middle;\n    }\n\n    .dataframe tbody tr th {\n        vertical-align: top;\n    }\n\n    .dataframe thead th {\n        text-align: right;\n    }\n</style>\n<table border=\"1\" class=\"dataframe\">\n  <thead>\n    <tr style=\"text-align: right;\">\n      <th></th>\n      <th>ReportDate</th>\n      <th>zip</th>\n      <th>NumCases</th>\n    </tr>\n  </thead>\n  <tbody>\n    <tr>\n      <th>0</th>\n      <td>2020-10-29</td>\n      <td>20105</td>\n      <td>327</td>\n    </tr>\n    <tr>\n      <th>1</th>\n      <td>2020-10-29</td>\n      <td>20106</td>\n      <td>78</td>\n    </tr>\n    <tr>\n      <th>2</th>\n      <td>2020-10-29</td>\n      <td>20109</td>\n      <td>1868</td>\n    </tr>\n    <tr>\n      <th>3</th>\n      <td>2020-10-29</td>\n      <td>20110</td>\n      <td>2327</td>\n    </tr>\n    <tr>\n      <th>4</th>\n      <td>2020-10-29</td>\n      <td>20111</td>\n      <td>1566</td>\n    </tr>\n  </tbody>\n</table>\n</div>"
     },
     "metadata": {},
     "execution_count": 58
    }
   ],
   "source": [
    "# renaming the columns \n",
    "df_ZipCOVID.rename({\"Report Date\": \"ReportDate\",  \n",
    "           \"ZIP Code\": \"zip\",  \n",
    "           \"Number of Cases\": \"NumCases\"},  \n",
    "          axis = \"columns\", inplace = True) \n",
    "print(df_ZipCOVID.shape)\n",
    "df_ZipCOVID.head()"
   ]
  },
  {
   "cell_type": "code",
   "execution_count": 59,
   "metadata": {},
   "outputs": [
    {
     "output_type": "stream",
     "name": "stdout",
     "text": [
      "(22760, 3)\n"
     ]
    },
    {
     "output_type": "execute_result",
     "data": {
      "text/plain": [
       "      ReportDate    zip  NumCases\n",
       "31712 2020-12-01  20105       455\n",
       "31713 2020-12-01  20106       106\n",
       "31714 2020-12-01  20109      2266\n",
       "31715 2020-12-01  20110      2703\n",
       "31716 2020-12-01  20111      1922"
      ],
      "text/html": "<div>\n<style scoped>\n    .dataframe tbody tr th:only-of-type {\n        vertical-align: middle;\n    }\n\n    .dataframe tbody tr th {\n        vertical-align: top;\n    }\n\n    .dataframe thead th {\n        text-align: right;\n    }\n</style>\n<table border=\"1\" class=\"dataframe\">\n  <thead>\n    <tr style=\"text-align: right;\">\n      <th></th>\n      <th>ReportDate</th>\n      <th>zip</th>\n      <th>NumCases</th>\n    </tr>\n  </thead>\n  <tbody>\n    <tr>\n      <th>31712</th>\n      <td>2020-12-01</td>\n      <td>20105</td>\n      <td>455</td>\n    </tr>\n    <tr>\n      <th>31713</th>\n      <td>2020-12-01</td>\n      <td>20106</td>\n      <td>106</td>\n    </tr>\n    <tr>\n      <th>31714</th>\n      <td>2020-12-01</td>\n      <td>20109</td>\n      <td>2266</td>\n    </tr>\n    <tr>\n      <th>31715</th>\n      <td>2020-12-01</td>\n      <td>20110</td>\n      <td>2703</td>\n    </tr>\n    <tr>\n      <th>31716</th>\n      <td>2020-12-01</td>\n      <td>20111</td>\n      <td>1922</td>\n    </tr>\n  </tbody>\n</table>\n</div>"
     },
     "metadata": {},
     "execution_count": 59
    }
   ],
   "source": [
    "# remove rows with dates less than 2020-11-30\n",
    "df_ZipCOVIDDecember = df_ZipCOVID[df_ZipCOVID.ReportDate > '2020-11-30']\n",
    "print(df_ZipCOVIDDecember.shape)\n",
    "df_ZipCOVIDDecember.head()"
   ]
  },
  {
   "cell_type": "code",
   "execution_count": 60,
   "metadata": {},
   "outputs": [
    {
     "output_type": "stream",
     "name": "stdout",
     "text": [
      "(867, 2)\n"
     ]
    },
    {
     "output_type": "execute_result",
     "data": {
      "text/plain": [
       "      NumCases      \n",
       "           min   max\n",
       "zip                 \n",
       "20105      455   643\n",
       "20106      106   140\n",
       "20109     2266  2786\n",
       "20110     2703  3367\n",
       "20111     1922  2487"
      ],
      "text/html": "<div>\n<style scoped>\n    .dataframe tbody tr th:only-of-type {\n        vertical-align: middle;\n    }\n\n    .dataframe tbody tr th {\n        vertical-align: top;\n    }\n\n    .dataframe thead tr th {\n        text-align: left;\n    }\n\n    .dataframe thead tr:last-of-type th {\n        text-align: right;\n    }\n</style>\n<table border=\"1\" class=\"dataframe\">\n  <thead>\n    <tr>\n      <th></th>\n      <th colspan=\"2\" halign=\"left\">NumCases</th>\n    </tr>\n    <tr>\n      <th></th>\n      <th>min</th>\n      <th>max</th>\n    </tr>\n    <tr>\n      <th>zip</th>\n      <th></th>\n      <th></th>\n    </tr>\n  </thead>\n  <tbody>\n    <tr>\n      <th>20105</th>\n      <td>455</td>\n      <td>643</td>\n    </tr>\n    <tr>\n      <th>20106</th>\n      <td>106</td>\n      <td>140</td>\n    </tr>\n    <tr>\n      <th>20109</th>\n      <td>2266</td>\n      <td>2786</td>\n    </tr>\n    <tr>\n      <th>20110</th>\n      <td>2703</td>\n      <td>3367</td>\n    </tr>\n    <tr>\n      <th>20111</th>\n      <td>1922</td>\n      <td>2487</td>\n    </tr>\n  </tbody>\n</table>\n</div>"
     },
     "metadata": {},
     "execution_count": 60
    }
   ],
   "source": [
    "# groupby zip code, subtract the minimum NumCases from the maximum NumCases to get the December Number Cases\n",
    "df_ZIPDecCaseCount = df_ZipCOVIDDecember.groupby('zip').agg({'NumCases': ['min', 'max']}) \n",
    "print(df_ZIPDecCaseCount.shape)\n",
    "df_ZIPDecCaseCount.head()"
   ]
  },
  {
   "cell_type": "code",
   "execution_count": 61,
   "metadata": {},
   "outputs": [
    {
     "output_type": "stream",
     "name": "stdout",
     "text": [
      "(867, 1)\n"
     ]
    },
    {
     "output_type": "execute_result",
     "data": {
      "text/plain": [
       "       DecNumCases\n",
       "zip               \n",
       "20105          188\n",
       "20106           34\n",
       "20109          520\n",
       "20110          664\n",
       "20111          565"
      ],
      "text/html": "<div>\n<style scoped>\n    .dataframe tbody tr th:only-of-type {\n        vertical-align: middle;\n    }\n\n    .dataframe tbody tr th {\n        vertical-align: top;\n    }\n\n    .dataframe thead th {\n        text-align: right;\n    }\n</style>\n<table border=\"1\" class=\"dataframe\">\n  <thead>\n    <tr style=\"text-align: right;\">\n      <th></th>\n      <th>DecNumCases</th>\n    </tr>\n    <tr>\n      <th>zip</th>\n      <th></th>\n    </tr>\n  </thead>\n  <tbody>\n    <tr>\n      <th>20105</th>\n      <td>188</td>\n    </tr>\n    <tr>\n      <th>20106</th>\n      <td>34</td>\n    </tr>\n    <tr>\n      <th>20109</th>\n      <td>520</td>\n    </tr>\n    <tr>\n      <th>20110</th>\n      <td>664</td>\n    </tr>\n    <tr>\n      <th>20111</th>\n      <td>565</td>\n    </tr>\n  </tbody>\n</table>\n</div>"
     },
     "metadata": {},
     "execution_count": 61
    }
   ],
   "source": [
    "#rename columns \n",
    "df_ZIPDecCaseCount.columns = ['min', 'max']\n",
    "# calculate the December case counts\n",
    "df_ZIPDecCaseCount['DecNumCases'] = df_ZIPDecCaseCount['max'] - df_ZIPDecCaseCount['min']\n",
    "\n",
    "# drop the min and max columns\n",
    "df_ZIPDecCaseCount.drop(['min','max'], axis=1, inplace=True)\n",
    "print(df_ZIPDecCaseCount.shape)\n",
    "df_ZIPDecCaseCount.head()"
   ]
  },
  {
   "cell_type": "code",
   "execution_count": 62,
   "metadata": {},
   "outputs": [
    {
     "output_type": "stream",
     "name": "stdout",
     "text": [
      "(867, 2)\n"
     ]
    },
    {
     "output_type": "execute_result",
     "data": {
      "text/plain": [
       "     zip  DecNumCases\n",
       "0  20105          188\n",
       "1  20106           34\n",
       "2  20109          520\n",
       "3  20110          664\n",
       "4  20111          565"
      ],
      "text/html": "<div>\n<style scoped>\n    .dataframe tbody tr th:only-of-type {\n        vertical-align: middle;\n    }\n\n    .dataframe tbody tr th {\n        vertical-align: top;\n    }\n\n    .dataframe thead th {\n        text-align: right;\n    }\n</style>\n<table border=\"1\" class=\"dataframe\">\n  <thead>\n    <tr style=\"text-align: right;\">\n      <th></th>\n      <th>zip</th>\n      <th>DecNumCases</th>\n    </tr>\n  </thead>\n  <tbody>\n    <tr>\n      <th>0</th>\n      <td>20105</td>\n      <td>188</td>\n    </tr>\n    <tr>\n      <th>1</th>\n      <td>20106</td>\n      <td>34</td>\n    </tr>\n    <tr>\n      <th>2</th>\n      <td>20109</td>\n      <td>520</td>\n    </tr>\n    <tr>\n      <th>3</th>\n      <td>20110</td>\n      <td>664</td>\n    </tr>\n    <tr>\n      <th>4</th>\n      <td>20111</td>\n      <td>565</td>\n    </tr>\n  </tbody>\n</table>\n</div>"
     },
     "metadata": {},
     "execution_count": 62
    }
   ],
   "source": [
    "# reset the index\n",
    "df_ZIPDecCaseCount.reset_index(inplace=True)\n",
    "print(df_ZIPDecCaseCount.shape)\n",
    "df_ZIPDecCaseCount.head()"
   ]
  },
  {
   "source": [
    "**Merge the Num Cases DataFrame with the df_ZipUnion DataFrame**"
   ],
   "cell_type": "markdown",
   "metadata": {}
  },
  {
   "cell_type": "code",
   "execution_count": 64,
   "metadata": {},
   "outputs": [
    {
     "output_type": "stream",
     "name": "stdout",
     "text": [
      "df_ZipUnion Shape:  (891, 7)\ndf_ZIPDecCaseCount Shape:  (867, 2)\n"
     ]
    }
   ],
   "source": [
    "print(\"df_ZipUnion Shape: \",df_ZipUnion.shape)\n",
    "print(\"df_ZIPDecCaseCount Shape: \",df_ZIPDecCaseCount.shape)"
   ]
  },
  {
   "source": [
    "There are some zip codes with 0 cases. Need to make sure the merge works to not eliminate those zips, and I will need to add a 0 value to the NaNs."
   ],
   "cell_type": "markdown",
   "metadata": {}
  },
  {
   "cell_type": "code",
   "execution_count": 65,
   "metadata": {},
   "outputs": [
    {
     "output_type": "execute_result",
     "data": {
      "text/plain": [
       "(891, 8)"
      ]
     },
     "metadata": {},
     "execution_count": 65
    }
   ],
   "source": [
    "df_ZipCOVIDUnion = df_ZipUnion.merge(df_ZIPDecCaseCount, on='zip', how='left')\n",
    "df_ZipCOVIDUnion.shape"
   ]
  },
  {
   "cell_type": "code",
   "execution_count": 67,
   "metadata": {},
   "outputs": [
    {
     "output_type": "execute_result",
     "data": {
      "text/plain": [
       "     zip   Latitude  Longitude          city             county      pop  \\\n",
       "0  23887  36.563755  -77.82652    Valentines          Brunswick    387.0   \n",
       "1  24656  37.198005  -82.12193       Vansant           Buchanan   2812.0   \n",
       "2  24149  37.011934  -80.41897         Riner         Montgomery   3530.0   \n",
       "3  23125  37.342721  -76.27989     New Point            Mathews    255.0   \n",
       "4  22652  38.823987  -78.45310   Fort Valley         Shenandoah   1339.0   \n",
       "5  22311  38.837312  -77.12064    Alexandria    Alexandria City  18952.0   \n",
       "6  24174  37.357587  -79.66552       Thaxton            Bedford   2762.0   \n",
       "7  23601  37.053346  -76.45948  Newport News  Newport News City  25578.0   \n",
       "8  22578  37.644240  -76.36034   White Stone          Lancaster   2315.0   \n",
       "9  23389  37.661513  -75.83150     Harborton           Accomack    258.0   \n",
       "\n",
       "                                  areaName  DecNumCases  \n",
       "0            Valentines, Brunswick (23887)          0.0  \n",
       "1                Vansant, Buchanan (24656)         46.0  \n",
       "2                Riner, Montgomery (24149)         52.0  \n",
       "3               New Point, Mathews (23125)          1.0  \n",
       "4          Fort Valley, Shenandoah (22652)          7.0  \n",
       "5      Alexandria, Alexandria City (22311)        260.0  \n",
       "6                 Thaxton, Bedford (24174)         18.0  \n",
       "7  Newport News, Newport News City (23601)        255.0  \n",
       "8           White Stone, Lancaster (22578)         23.0  \n",
       "9              Harborton, Accomack (23389)          NaN  "
      ],
      "text/html": "<div>\n<style scoped>\n    .dataframe tbody tr th:only-of-type {\n        vertical-align: middle;\n    }\n\n    .dataframe tbody tr th {\n        vertical-align: top;\n    }\n\n    .dataframe thead th {\n        text-align: right;\n    }\n</style>\n<table border=\"1\" class=\"dataframe\">\n  <thead>\n    <tr style=\"text-align: right;\">\n      <th></th>\n      <th>zip</th>\n      <th>Latitude</th>\n      <th>Longitude</th>\n      <th>city</th>\n      <th>county</th>\n      <th>pop</th>\n      <th>areaName</th>\n      <th>DecNumCases</th>\n    </tr>\n  </thead>\n  <tbody>\n    <tr>\n      <th>0</th>\n      <td>23887</td>\n      <td>36.563755</td>\n      <td>-77.82652</td>\n      <td>Valentines</td>\n      <td>Brunswick</td>\n      <td>387.0</td>\n      <td>Valentines, Brunswick (23887)</td>\n      <td>0.0</td>\n    </tr>\n    <tr>\n      <th>1</th>\n      <td>24656</td>\n      <td>37.198005</td>\n      <td>-82.12193</td>\n      <td>Vansant</td>\n      <td>Buchanan</td>\n      <td>2812.0</td>\n      <td>Vansant, Buchanan (24656)</td>\n      <td>46.0</td>\n    </tr>\n    <tr>\n      <th>2</th>\n      <td>24149</td>\n      <td>37.011934</td>\n      <td>-80.41897</td>\n      <td>Riner</td>\n      <td>Montgomery</td>\n      <td>3530.0</td>\n      <td>Riner, Montgomery (24149)</td>\n      <td>52.0</td>\n    </tr>\n    <tr>\n      <th>3</th>\n      <td>23125</td>\n      <td>37.342721</td>\n      <td>-76.27989</td>\n      <td>New Point</td>\n      <td>Mathews</td>\n      <td>255.0</td>\n      <td>New Point, Mathews (23125)</td>\n      <td>1.0</td>\n    </tr>\n    <tr>\n      <th>4</th>\n      <td>22652</td>\n      <td>38.823987</td>\n      <td>-78.45310</td>\n      <td>Fort Valley</td>\n      <td>Shenandoah</td>\n      <td>1339.0</td>\n      <td>Fort Valley, Shenandoah (22652)</td>\n      <td>7.0</td>\n    </tr>\n    <tr>\n      <th>5</th>\n      <td>22311</td>\n      <td>38.837312</td>\n      <td>-77.12064</td>\n      <td>Alexandria</td>\n      <td>Alexandria City</td>\n      <td>18952.0</td>\n      <td>Alexandria, Alexandria City (22311)</td>\n      <td>260.0</td>\n    </tr>\n    <tr>\n      <th>6</th>\n      <td>24174</td>\n      <td>37.357587</td>\n      <td>-79.66552</td>\n      <td>Thaxton</td>\n      <td>Bedford</td>\n      <td>2762.0</td>\n      <td>Thaxton, Bedford (24174)</td>\n      <td>18.0</td>\n    </tr>\n    <tr>\n      <th>7</th>\n      <td>23601</td>\n      <td>37.053346</td>\n      <td>-76.45948</td>\n      <td>Newport News</td>\n      <td>Newport News City</td>\n      <td>25578.0</td>\n      <td>Newport News, Newport News City (23601)</td>\n      <td>255.0</td>\n    </tr>\n    <tr>\n      <th>8</th>\n      <td>22578</td>\n      <td>37.644240</td>\n      <td>-76.36034</td>\n      <td>White Stone</td>\n      <td>Lancaster</td>\n      <td>2315.0</td>\n      <td>White Stone, Lancaster (22578)</td>\n      <td>23.0</td>\n    </tr>\n    <tr>\n      <th>9</th>\n      <td>23389</td>\n      <td>37.661513</td>\n      <td>-75.83150</td>\n      <td>Harborton</td>\n      <td>Accomack</td>\n      <td>258.0</td>\n      <td>Harborton, Accomack (23389)</td>\n      <td>NaN</td>\n    </tr>\n  </tbody>\n</table>\n</div>"
     },
     "metadata": {},
     "execution_count": 67
    }
   ],
   "source": [
    "df_ZipCOVIDUnion.head(10)"
   ]
  },
  {
   "source": [
    "The tenth row has a NaN, need to set this, and all other NaN's to 0."
   ],
   "cell_type": "markdown",
   "metadata": {}
  },
  {
   "cell_type": "code",
   "execution_count": 68,
   "metadata": {},
   "outputs": [
    {
     "output_type": "execute_result",
     "data": {
      "text/plain": [
       "     zip   Latitude  Longitude          city             county      pop  \\\n",
       "0  23887  36.563755  -77.82652    Valentines          Brunswick    387.0   \n",
       "1  24656  37.198005  -82.12193       Vansant           Buchanan   2812.0   \n",
       "2  24149  37.011934  -80.41897         Riner         Montgomery   3530.0   \n",
       "3  23125  37.342721  -76.27989     New Point            Mathews    255.0   \n",
       "4  22652  38.823987  -78.45310   Fort Valley         Shenandoah   1339.0   \n",
       "5  22311  38.837312  -77.12064    Alexandria    Alexandria City  18952.0   \n",
       "6  24174  37.357587  -79.66552       Thaxton            Bedford   2762.0   \n",
       "7  23601  37.053346  -76.45948  Newport News  Newport News City  25578.0   \n",
       "8  22578  37.644240  -76.36034   White Stone          Lancaster   2315.0   \n",
       "9  23389  37.661513  -75.83150     Harborton           Accomack    258.0   \n",
       "\n",
       "                                  areaName  DecNumCases  \n",
       "0            Valentines, Brunswick (23887)          0.0  \n",
       "1                Vansant, Buchanan (24656)         46.0  \n",
       "2                Riner, Montgomery (24149)         52.0  \n",
       "3               New Point, Mathews (23125)          1.0  \n",
       "4          Fort Valley, Shenandoah (22652)          7.0  \n",
       "5      Alexandria, Alexandria City (22311)        260.0  \n",
       "6                 Thaxton, Bedford (24174)         18.0  \n",
       "7  Newport News, Newport News City (23601)        255.0  \n",
       "8           White Stone, Lancaster (22578)         23.0  \n",
       "9              Harborton, Accomack (23389)          0.0  "
      ],
      "text/html": "<div>\n<style scoped>\n    .dataframe tbody tr th:only-of-type {\n        vertical-align: middle;\n    }\n\n    .dataframe tbody tr th {\n        vertical-align: top;\n    }\n\n    .dataframe thead th {\n        text-align: right;\n    }\n</style>\n<table border=\"1\" class=\"dataframe\">\n  <thead>\n    <tr style=\"text-align: right;\">\n      <th></th>\n      <th>zip</th>\n      <th>Latitude</th>\n      <th>Longitude</th>\n      <th>city</th>\n      <th>county</th>\n      <th>pop</th>\n      <th>areaName</th>\n      <th>DecNumCases</th>\n    </tr>\n  </thead>\n  <tbody>\n    <tr>\n      <th>0</th>\n      <td>23887</td>\n      <td>36.563755</td>\n      <td>-77.82652</td>\n      <td>Valentines</td>\n      <td>Brunswick</td>\n      <td>387.0</td>\n      <td>Valentines, Brunswick (23887)</td>\n      <td>0.0</td>\n    </tr>\n    <tr>\n      <th>1</th>\n      <td>24656</td>\n      <td>37.198005</td>\n      <td>-82.12193</td>\n      <td>Vansant</td>\n      <td>Buchanan</td>\n      <td>2812.0</td>\n      <td>Vansant, Buchanan (24656)</td>\n      <td>46.0</td>\n    </tr>\n    <tr>\n      <th>2</th>\n      <td>24149</td>\n      <td>37.011934</td>\n      <td>-80.41897</td>\n      <td>Riner</td>\n      <td>Montgomery</td>\n      <td>3530.0</td>\n      <td>Riner, Montgomery (24149)</td>\n      <td>52.0</td>\n    </tr>\n    <tr>\n      <th>3</th>\n      <td>23125</td>\n      <td>37.342721</td>\n      <td>-76.27989</td>\n      <td>New Point</td>\n      <td>Mathews</td>\n      <td>255.0</td>\n      <td>New Point, Mathews (23125)</td>\n      <td>1.0</td>\n    </tr>\n    <tr>\n      <th>4</th>\n      <td>22652</td>\n      <td>38.823987</td>\n      <td>-78.45310</td>\n      <td>Fort Valley</td>\n      <td>Shenandoah</td>\n      <td>1339.0</td>\n      <td>Fort Valley, Shenandoah (22652)</td>\n      <td>7.0</td>\n    </tr>\n    <tr>\n      <th>5</th>\n      <td>22311</td>\n      <td>38.837312</td>\n      <td>-77.12064</td>\n      <td>Alexandria</td>\n      <td>Alexandria City</td>\n      <td>18952.0</td>\n      <td>Alexandria, Alexandria City (22311)</td>\n      <td>260.0</td>\n    </tr>\n    <tr>\n      <th>6</th>\n      <td>24174</td>\n      <td>37.357587</td>\n      <td>-79.66552</td>\n      <td>Thaxton</td>\n      <td>Bedford</td>\n      <td>2762.0</td>\n      <td>Thaxton, Bedford (24174)</td>\n      <td>18.0</td>\n    </tr>\n    <tr>\n      <th>7</th>\n      <td>23601</td>\n      <td>37.053346</td>\n      <td>-76.45948</td>\n      <td>Newport News</td>\n      <td>Newport News City</td>\n      <td>25578.0</td>\n      <td>Newport News, Newport News City (23601)</td>\n      <td>255.0</td>\n    </tr>\n    <tr>\n      <th>8</th>\n      <td>22578</td>\n      <td>37.644240</td>\n      <td>-76.36034</td>\n      <td>White Stone</td>\n      <td>Lancaster</td>\n      <td>2315.0</td>\n      <td>White Stone, Lancaster (22578)</td>\n      <td>23.0</td>\n    </tr>\n    <tr>\n      <th>9</th>\n      <td>23389</td>\n      <td>37.661513</td>\n      <td>-75.83150</td>\n      <td>Harborton</td>\n      <td>Accomack</td>\n      <td>258.0</td>\n      <td>Harborton, Accomack (23389)</td>\n      <td>0.0</td>\n    </tr>\n  </tbody>\n</table>\n</div>"
     },
     "metadata": {},
     "execution_count": 68
    }
   ],
   "source": [
    "df_ZipCOVIDUnion.fillna(0, inplace=True)\n",
    "df_ZipCOVIDUnion.head(10)"
   ]
  },
  {
   "source": [
    "### Calculate the per population number of December COVID Cases for each Virginia zip code"
   ],
   "cell_type": "markdown",
   "metadata": {}
  },
  {
   "cell_type": "code",
   "execution_count": 70,
   "metadata": {},
   "outputs": [
    {
     "output_type": "execute_result",
     "data": {
      "text/plain": [
       "     zip   Latitude  Longitude          city             county      pop  \\\n",
       "0  23887  36.563755  -77.82652    Valentines          Brunswick    387.0   \n",
       "1  24656  37.198005  -82.12193       Vansant           Buchanan   2812.0   \n",
       "2  24149  37.011934  -80.41897         Riner         Montgomery   3530.0   \n",
       "3  23125  37.342721  -76.27989     New Point            Mathews    255.0   \n",
       "4  22652  38.823987  -78.45310   Fort Valley         Shenandoah   1339.0   \n",
       "5  22311  38.837312  -77.12064    Alexandria    Alexandria City  18952.0   \n",
       "6  24174  37.357587  -79.66552       Thaxton            Bedford   2762.0   \n",
       "7  23601  37.053346  -76.45948  Newport News  Newport News City  25578.0   \n",
       "8  22578  37.644240  -76.36034   White Stone          Lancaster   2315.0   \n",
       "9  23389  37.661513  -75.83150     Harborton           Accomack    258.0   \n",
       "\n",
       "                                  areaName  DecNumCases  DecCOVIDPerCap  \n",
       "0            Valentines, Brunswick (23887)          0.0        0.000000  \n",
       "1                Vansant, Buchanan (24656)         46.0        0.016358  \n",
       "2                Riner, Montgomery (24149)         52.0        0.014731  \n",
       "3               New Point, Mathews (23125)          1.0        0.003922  \n",
       "4          Fort Valley, Shenandoah (22652)          7.0        0.005228  \n",
       "5      Alexandria, Alexandria City (22311)        260.0        0.013719  \n",
       "6                 Thaxton, Bedford (24174)         18.0        0.006517  \n",
       "7  Newport News, Newport News City (23601)        255.0        0.009970  \n",
       "8           White Stone, Lancaster (22578)         23.0        0.009935  \n",
       "9              Harborton, Accomack (23389)          0.0        0.000000  "
      ],
      "text/html": "<div>\n<style scoped>\n    .dataframe tbody tr th:only-of-type {\n        vertical-align: middle;\n    }\n\n    .dataframe tbody tr th {\n        vertical-align: top;\n    }\n\n    .dataframe thead th {\n        text-align: right;\n    }\n</style>\n<table border=\"1\" class=\"dataframe\">\n  <thead>\n    <tr style=\"text-align: right;\">\n      <th></th>\n      <th>zip</th>\n      <th>Latitude</th>\n      <th>Longitude</th>\n      <th>city</th>\n      <th>county</th>\n      <th>pop</th>\n      <th>areaName</th>\n      <th>DecNumCases</th>\n      <th>DecCOVIDPerCap</th>\n    </tr>\n  </thead>\n  <tbody>\n    <tr>\n      <th>0</th>\n      <td>23887</td>\n      <td>36.563755</td>\n      <td>-77.82652</td>\n      <td>Valentines</td>\n      <td>Brunswick</td>\n      <td>387.0</td>\n      <td>Valentines, Brunswick (23887)</td>\n      <td>0.0</td>\n      <td>0.000000</td>\n    </tr>\n    <tr>\n      <th>1</th>\n      <td>24656</td>\n      <td>37.198005</td>\n      <td>-82.12193</td>\n      <td>Vansant</td>\n      <td>Buchanan</td>\n      <td>2812.0</td>\n      <td>Vansant, Buchanan (24656)</td>\n      <td>46.0</td>\n      <td>0.016358</td>\n    </tr>\n    <tr>\n      <th>2</th>\n      <td>24149</td>\n      <td>37.011934</td>\n      <td>-80.41897</td>\n      <td>Riner</td>\n      <td>Montgomery</td>\n      <td>3530.0</td>\n      <td>Riner, Montgomery (24149)</td>\n      <td>52.0</td>\n      <td>0.014731</td>\n    </tr>\n    <tr>\n      <th>3</th>\n      <td>23125</td>\n      <td>37.342721</td>\n      <td>-76.27989</td>\n      <td>New Point</td>\n      <td>Mathews</td>\n      <td>255.0</td>\n      <td>New Point, Mathews (23125)</td>\n      <td>1.0</td>\n      <td>0.003922</td>\n    </tr>\n    <tr>\n      <th>4</th>\n      <td>22652</td>\n      <td>38.823987</td>\n      <td>-78.45310</td>\n      <td>Fort Valley</td>\n      <td>Shenandoah</td>\n      <td>1339.0</td>\n      <td>Fort Valley, Shenandoah (22652)</td>\n      <td>7.0</td>\n      <td>0.005228</td>\n    </tr>\n    <tr>\n      <th>5</th>\n      <td>22311</td>\n      <td>38.837312</td>\n      <td>-77.12064</td>\n      <td>Alexandria</td>\n      <td>Alexandria City</td>\n      <td>18952.0</td>\n      <td>Alexandria, Alexandria City (22311)</td>\n      <td>260.0</td>\n      <td>0.013719</td>\n    </tr>\n    <tr>\n      <th>6</th>\n      <td>24174</td>\n      <td>37.357587</td>\n      <td>-79.66552</td>\n      <td>Thaxton</td>\n      <td>Bedford</td>\n      <td>2762.0</td>\n      <td>Thaxton, Bedford (24174)</td>\n      <td>18.0</td>\n      <td>0.006517</td>\n    </tr>\n    <tr>\n      <th>7</th>\n      <td>23601</td>\n      <td>37.053346</td>\n      <td>-76.45948</td>\n      <td>Newport News</td>\n      <td>Newport News City</td>\n      <td>25578.0</td>\n      <td>Newport News, Newport News City (23601)</td>\n      <td>255.0</td>\n      <td>0.009970</td>\n    </tr>\n    <tr>\n      <th>8</th>\n      <td>22578</td>\n      <td>37.644240</td>\n      <td>-76.36034</td>\n      <td>White Stone</td>\n      <td>Lancaster</td>\n      <td>2315.0</td>\n      <td>White Stone, Lancaster (22578)</td>\n      <td>23.0</td>\n      <td>0.009935</td>\n    </tr>\n    <tr>\n      <th>9</th>\n      <td>23389</td>\n      <td>37.661513</td>\n      <td>-75.83150</td>\n      <td>Harborton</td>\n      <td>Accomack</td>\n      <td>258.0</td>\n      <td>Harborton, Accomack (23389)</td>\n      <td>0.0</td>\n      <td>0.000000</td>\n    </tr>\n  </tbody>\n</table>\n</div>"
     },
     "metadata": {},
     "execution_count": 70
    }
   ],
   "source": [
    "df_ZipCOVIDUnion['DecCOVIDPerCap'] = df_ZipCOVIDUnion['DecNumCases'] / df_ZipCOVIDUnion['pop']"
   ]
  },
  {
   "cell_type": "code",
   "execution_count": 92,
   "metadata": {},
   "outputs": [
    {
     "output_type": "execute_result",
     "data": {
      "text/plain": [
       "zip                object\n",
       "Latitude          float64\n",
       "Longitude         float64\n",
       "city               object\n",
       "county             object\n",
       "pop               float64\n",
       "areaName           object\n",
       "DecNumCases       float64\n",
       "DecCOVIDPerCap    float64\n",
       "dtype: object"
      ]
     },
     "metadata": {},
     "execution_count": 92
    }
   ],
   "source": [
    "df_ZipCOVIDUnion.replace([np.inf, -np.inf], np.nan)\n",
    "df_ZipCOVIDUnion.fillna(0, inplace=True)\n",
    "df_ZipCOVIDUnion.dtypes"
   ]
  },
  {
   "cell_type": "code",
   "execution_count": 95,
   "metadata": {},
   "outputs": [
    {
     "output_type": "execute_result",
     "data": {
      "text/plain": [
       "         Latitude   Longitude           pop  DecNumCases  DecCOVIDPerCap\n",
       "count  891.000000  891.000000    891.000000   891.000000      891.000000\n",
       "mean    37.655585  -78.352604   9307.725028   101.529742             inf\n",
       "std      0.741489    1.770358  13765.797134   153.625160             NaN\n",
       "min     36.554164  -83.483220      0.000000     0.000000        0.000000\n",
       "25%     37.023567  -79.360430    831.000000     7.000000        0.006452\n",
       "50%     37.528701  -77.998750   2777.000000    31.000000        0.009658\n",
       "75%     38.234870  -77.100440  11063.500000   134.000000        0.013966\n",
       "max     39.345906  -75.367800  82573.000000  1232.000000             inf"
      ],
      "text/html": "<div>\n<style scoped>\n    .dataframe tbody tr th:only-of-type {\n        vertical-align: middle;\n    }\n\n    .dataframe tbody tr th {\n        vertical-align: top;\n    }\n\n    .dataframe thead th {\n        text-align: right;\n    }\n</style>\n<table border=\"1\" class=\"dataframe\">\n  <thead>\n    <tr style=\"text-align: right;\">\n      <th></th>\n      <th>Latitude</th>\n      <th>Longitude</th>\n      <th>pop</th>\n      <th>DecNumCases</th>\n      <th>DecCOVIDPerCap</th>\n    </tr>\n  </thead>\n  <tbody>\n    <tr>\n      <th>count</th>\n      <td>891.000000</td>\n      <td>891.000000</td>\n      <td>891.000000</td>\n      <td>891.000000</td>\n      <td>891.000000</td>\n    </tr>\n    <tr>\n      <th>mean</th>\n      <td>37.655585</td>\n      <td>-78.352604</td>\n      <td>9307.725028</td>\n      <td>101.529742</td>\n      <td>inf</td>\n    </tr>\n    <tr>\n      <th>std</th>\n      <td>0.741489</td>\n      <td>1.770358</td>\n      <td>13765.797134</td>\n      <td>153.625160</td>\n      <td>NaN</td>\n    </tr>\n    <tr>\n      <th>min</th>\n      <td>36.554164</td>\n      <td>-83.483220</td>\n      <td>0.000000</td>\n      <td>0.000000</td>\n      <td>0.000000</td>\n    </tr>\n    <tr>\n      <th>25%</th>\n      <td>37.023567</td>\n      <td>-79.360430</td>\n      <td>831.000000</td>\n      <td>7.000000</td>\n      <td>0.006452</td>\n    </tr>\n    <tr>\n      <th>50%</th>\n      <td>37.528701</td>\n      <td>-77.998750</td>\n      <td>2777.000000</td>\n      <td>31.000000</td>\n      <td>0.009658</td>\n    </tr>\n    <tr>\n      <th>75%</th>\n      <td>38.234870</td>\n      <td>-77.100440</td>\n      <td>11063.500000</td>\n      <td>134.000000</td>\n      <td>0.013966</td>\n    </tr>\n    <tr>\n      <th>max</th>\n      <td>39.345906</td>\n      <td>-75.367800</td>\n      <td>82573.000000</td>\n      <td>1232.000000</td>\n      <td>inf</td>\n    </tr>\n  </tbody>\n</table>\n</div>"
     },
     "metadata": {},
     "execution_count": 95
    }
   ],
   "source": [
    "df_ZipCOVIDUnion.describe()\n"
   ]
  },
  {
   "cell_type": "code",
   "execution_count": 101,
   "metadata": {},
   "outputs": [
    {
     "output_type": "execute_result",
     "data": {
      "text/plain": [
       "0.010908115737950074"
      ]
     },
     "metadata": {},
     "execution_count": 101
    }
   ],
   "source": [
    "# calculate the thredhold for above average December Cases Per Capita, vs below average December Cases Per Capita\n",
    "threshold_DecCasesPerCap = df_ZipCOVIDUnion['DecNumCases'].mean() / df_ZipCOVIDUnion['pop'].mean()\n",
    "threshold_DecCasesPerCap"
   ]
  },
  {
   "source": [
    "### Threshold For Above or Below December COVID-19 Cases Per Capita in Virgina Counties: 1.1% of zip code population\n",
    "\n",
    "Add a column to the df_ZipCOVIDUnion DataFrame with 'above' or 'below' depending on if the DecCOVIDPerCap is > 0.011 or < 0.011"
   ],
   "cell_type": "markdown",
   "metadata": {}
  },
  {
   "cell_type": "code",
   "execution_count": 102,
   "metadata": {},
   "outputs": [
    {
     "output_type": "execute_result",
     "data": {
      "text/plain": [
       "     zip   Latitude  Longitude         city      county     pop  \\\n",
       "0  23887  36.563755  -77.82652   Valentines   Brunswick   387.0   \n",
       "1  24656  37.198005  -82.12193      Vansant    Buchanan  2812.0   \n",
       "2  24149  37.011934  -80.41897        Riner  Montgomery  3530.0   \n",
       "3  23125  37.342721  -76.27989    New Point     Mathews   255.0   \n",
       "4  22652  38.823987  -78.45310  Fort Valley  Shenandoah  1339.0   \n",
       "\n",
       "                          areaName  DecNumCases  DecCOVIDPerCap aboveorbelow  \n",
       "0    Valentines, Brunswick (23887)          0.0        0.000000        below  \n",
       "1        Vansant, Buchanan (24656)         46.0        0.016358        above  \n",
       "2        Riner, Montgomery (24149)         52.0        0.014731        above  \n",
       "3       New Point, Mathews (23125)          1.0        0.003922        below  \n",
       "4  Fort Valley, Shenandoah (22652)          7.0        0.005228        below  "
      ],
      "text/html": "<div>\n<style scoped>\n    .dataframe tbody tr th:only-of-type {\n        vertical-align: middle;\n    }\n\n    .dataframe tbody tr th {\n        vertical-align: top;\n    }\n\n    .dataframe thead th {\n        text-align: right;\n    }\n</style>\n<table border=\"1\" class=\"dataframe\">\n  <thead>\n    <tr style=\"text-align: right;\">\n      <th></th>\n      <th>zip</th>\n      <th>Latitude</th>\n      <th>Longitude</th>\n      <th>city</th>\n      <th>county</th>\n      <th>pop</th>\n      <th>areaName</th>\n      <th>DecNumCases</th>\n      <th>DecCOVIDPerCap</th>\n      <th>aboveorbelow</th>\n    </tr>\n  </thead>\n  <tbody>\n    <tr>\n      <th>0</th>\n      <td>23887</td>\n      <td>36.563755</td>\n      <td>-77.82652</td>\n      <td>Valentines</td>\n      <td>Brunswick</td>\n      <td>387.0</td>\n      <td>Valentines, Brunswick (23887)</td>\n      <td>0.0</td>\n      <td>0.000000</td>\n      <td>below</td>\n    </tr>\n    <tr>\n      <th>1</th>\n      <td>24656</td>\n      <td>37.198005</td>\n      <td>-82.12193</td>\n      <td>Vansant</td>\n      <td>Buchanan</td>\n      <td>2812.0</td>\n      <td>Vansant, Buchanan (24656)</td>\n      <td>46.0</td>\n      <td>0.016358</td>\n      <td>above</td>\n    </tr>\n    <tr>\n      <th>2</th>\n      <td>24149</td>\n      <td>37.011934</td>\n      <td>-80.41897</td>\n      <td>Riner</td>\n      <td>Montgomery</td>\n      <td>3530.0</td>\n      <td>Riner, Montgomery (24149)</td>\n      <td>52.0</td>\n      <td>0.014731</td>\n      <td>above</td>\n    </tr>\n    <tr>\n      <th>3</th>\n      <td>23125</td>\n      <td>37.342721</td>\n      <td>-76.27989</td>\n      <td>New Point</td>\n      <td>Mathews</td>\n      <td>255.0</td>\n      <td>New Point, Mathews (23125)</td>\n      <td>1.0</td>\n      <td>0.003922</td>\n      <td>below</td>\n    </tr>\n    <tr>\n      <th>4</th>\n      <td>22652</td>\n      <td>38.823987</td>\n      <td>-78.45310</td>\n      <td>Fort Valley</td>\n      <td>Shenandoah</td>\n      <td>1339.0</td>\n      <td>Fort Valley, Shenandoah (22652)</td>\n      <td>7.0</td>\n      <td>0.005228</td>\n      <td>below</td>\n    </tr>\n  </tbody>\n</table>\n</div>"
     },
     "metadata": {},
     "execution_count": 102
    }
   ],
   "source": [
    "df_ZipCOVIDUnion['aboveorbelow'] = np.where(df_ZipCOVIDUnion['DecCOVIDPerCap'] < 0.011, 'below', 'above')\n",
    "df_ZipCOVIDUnion.head()"
   ]
  },
  {
   "source": [
    "## Methodology \n",
    "\n",
    "** TO DO**\n",
    "Main component of the report where you discuss and describe any exploratory data analysis that you did, any inferential statistical testing that you performed, if any, and what machine learnings were used and why.\n",
    "\n",
    "Attempted to use trending venues from FourSquare, but trending venues were unavailable for all of Virginia zip codes for multiple retrival attempts. I had to settle for 50 venues within two kilometers of the zip code location.\n",
    "\n",
    "I will explore FourSquare trending venues by Virginia zip code. I will merge the trending venues by Virginia zip code with per capita COVID-19 case number increases in the last two weeks in Virginia. I will categorize each zip code as a high rate of COVID per capita, or a low rate of COVID per capita. I will retrieve the top 10 categories of venues for each zip code. I then trained a Support Vector Machine to determine whether a zip code can be predicted to be high or low per capita COVID-19 infections by the categories of trending venues."
   ],
   "cell_type": "markdown",
   "metadata": {}
  },
  {
   "source": [
    "## Results\n",
    "\n",
    "** TO DO**\n",
    "Discuss the results.\n",
    "\n",
    "## Discussion\n",
    "\n",
    "** TO DO**\n",
    "Discuss any observations you noted and any recommendations you can make based on the results.\n",
    "\n",
    "## Conclusion\n",
    "\n",
    "** TO DO**\n",
    "Conclude the report.\n",
    "\n",
    "## References\n",
    " Virgina Departments of Health: https://www.vdh.virgi\n",
    " nia.gov/coronavirus/frequently-asked-questions/general-questions/"
   ],
   "cell_type": "markdown",
   "metadata": {}
  }
 ]
}